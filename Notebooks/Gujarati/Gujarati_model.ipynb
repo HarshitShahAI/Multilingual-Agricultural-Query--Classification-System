{
  "nbformat": 4,
  "nbformat_minor": 0,
  "metadata": {
    "colab": {
      "provenance": []
    },
    "kernelspec": {
      "name": "python3",
      "display_name": "Python 3"
    },
    "language_info": {
      "name": "python"
    }
  },
  "cells": [
    {
      "cell_type": "code",
      "source": [
        "from google.colab import drive\n",
        "import os\n",
        "\n",
        "drive.mount('/content/drive')\n"
      ],
      "metadata": {
        "colab": {
          "base_uri": "https://localhost:8080/"
        },
        "id": "1VYNwVIlMA_y",
        "outputId": "0ac003b5-37bc-49da-ae39-02e0c87fb2d4"
      },
      "execution_count": 13,
      "outputs": [
        {
          "output_type": "stream",
          "name": "stdout",
          "text": [
            "Drive already mounted at /content/drive; to attempt to forcibly remount, call drive.mount(\"/content/drive\", force_remount=True).\n"
          ]
        }
      ]
    },
    {
      "cell_type": "code",
      "source": [
        "from sklearn.pipeline import FeatureUnion\n",
        "from sklearn.feature_extraction.text import TfidfVectorizer\n",
        "from sklearn.ensemble import VotingClassifier\n",
        "from imblearn.under_sampling import RandomUnderSampler\n",
        "from sklearn.model_selection import train_test_split\n",
        "from sklearn.metrics import precision_recall_fscore_support, classification_report, confusion_matrix\n",
        "from sklearn.linear_model import LogisticRegression\n",
        "from sklearn.ensemble import RandomForestClassifier\n",
        "from sklearn.naive_bayes import MultinomialNB\n",
        "from sklearn.svm import LinearSVC\n",
        "from sklearn.linear_model import SGDClassifier\n",
        "import xgboost as xgb\n",
        "import matplotlib.pyplot as plt\n",
        "import seaborn as sns\n",
        "import os\n",
        "from pickle import dump\n",
        "import itertools\n",
        "import re\n",
        "import pandas as pd\n"
      ],
      "metadata": {
        "id": "B2rZ_PE61moK"
      },
      "execution_count": 8,
      "outputs": []
    },
    {
      "cell_type": "code",
      "source": [
        "def clean_text_unicode(text):\n",
        "    text = re.sub(r'[^\\u0A80-\\u0AFF\\s]', '', text)\n",
        "    text = re.sub(r'\\s+', ' ', text).strip()\n",
        "    return text"
      ],
      "metadata": {
        "id": "T-prgbsC2TH4"
      },
      "execution_count": 37,
      "outputs": []
    },
    {
      "cell_type": "code",
      "source": [
        "def load_data(csv_path):\n",
        "    data = pd.read_csv(csv_path,encoding='utf-8')\n",
        "    data['Gujarati'] = data['Gujarati'].apply(clean_text_unicode)\n",
        "    return data\n",
        "\n",
        "def preprocess_data(data, label_column='Label', text_column='Gujarati'):\n",
        "    X = data[text_column]\n",
        "    y = data[label_column]\n",
        "    return X, y"
      ],
      "metadata": {
        "id": "uVAtqgAyNcGt"
      },
      "execution_count": 36,
      "outputs": []
    },
    {
      "cell_type": "code",
      "source": [
        "\n",
        "def get_classifiers():\n",
        "    return {\n",
        "        'LR': LogisticRegression(max_iter=1000),\n",
        "        'RF': RandomForestClassifier(n_jobs=-1),\n",
        "        'MNB': MultinomialNB(),\n",
        "        'SVM': LinearSVC(),\n",
        "        'SGD': SGDClassifier(),\n",
        "        'XGB': xgb.XGBClassifier(tree_method='hist', n_jobs=-1)\n",
        "    }\n",
        "\n",
        "def save_model(clf, model_name, vectorizer, fold_folder):\n",
        "    os.makedirs(fold_folder, exist_ok=True)\n",
        "\n",
        "    model_path = os.path.join(fold_folder, f'{model_name}_model.pkl')\n",
        "    with open(model_path, 'wb') as model_file:\n",
        "        dump(clf, model_file)\n",
        "\n",
        "    with open(os.path.join(fold_folder, f'{model_name}_vectorizer.pkl'), 'wb') as file:\n",
        "        dump(vectorizer, file)\n",
        "\n",
        "    print(f\"Model and vectorizer saved at: {fold_folder}\")\n",
        "\n",
        "def save_classification_report_and_confusion_matrix(y_true, y_pred, results_folder, model_name):\n",
        "    os.makedirs(results_folder, exist_ok=True)\n",
        "\n",
        "\n",
        "    report_path = os.path.join(results_folder, f'{model_name}_report.txt')\n",
        "    class_report = classification_report(y_true, y_pred)\n",
        "    with open(report_path, 'w') as file:\n",
        "        file.write(class_report)\n",
        "\n",
        "\n",
        "    cm = confusion_matrix(y_true, y_pred)\n",
        "    plt.figure(figsize=(6,6))\n",
        "    sns.heatmap(cm, annot=True, fmt='d', cmap='Blues', linewidths=0.5)\n",
        "    plt.title(f'Confusion Matrix for {model_name}')\n",
        "    cm_path = os.path.join(results_folder, f'{model_name}_cm.png')\n",
        "    plt.savefig(cm_path)\n",
        "    plt.close()\n",
        "\n",
        "def plot_class_distribution(y):\n",
        "    plt.figure(figsize=(8,6))\n",
        "    sns.countplot(x=y)\n",
        "    plt.title('Class Distribution')\n",
        "    plt.xlabel('Classes')\n",
        "    plt.ylabel('Count')\n",
        "    plt.xticks(rotation=45)\n",
        "    plt.tight_layout()\n",
        "    plt.savefig('/content/drive/MyDrive/AI_Project/Gujarati/EDA/class_distribution.png')\n",
        "    plt.close()\n"
      ],
      "metadata": {
        "id": "fghrMoGSNp_Y"
      },
      "execution_count": 35,
      "outputs": []
    },
    {
      "cell_type": "code",
      "source": [
        "\n",
        "def train_and_save_voting_models(X, y, base_classifiers):\n",
        "\n",
        "    X_train, X_test, y_train, y_test = train_test_split(X, y, test_size=0.2, random_state=42, stratify=y)\n",
        "\n",
        "\n",
        "    combinations_3 = list(itertools.combinations(base_classifiers.items(), 3))\n",
        "    combinations_5 = list(itertools.combinations(base_classifiers.items(), 5))\n",
        "\n",
        "    final_results = []\n",
        "\n",
        "    for combs, folder_prefix in [(combinations_3, '3m'), (combinations_5, '5m')]:\n",
        "\n",
        "        for comb in combs:\n",
        "            model_names = [name for name, _ in comb]\n",
        "            models = [(name, clf) for name, clf in comb]\n",
        "\n",
        "            model_name = \"_\".join(model_names)\n",
        "            print(f\"Training VotingClassifier: {model_name}\")\n",
        "\n",
        "\n",
        "            word_vect = TfidfVectorizer(analyzer='word', ngram_range=(1, 1))\n",
        "            char_vect = TfidfVectorizer(analyzer='char', ngram_range=(2, 5))\n",
        "\n",
        "            feature_union = FeatureUnion([\n",
        "                ('word_tfidf', word_vect),\n",
        "                ('char_tfidf', char_vect)\n",
        "            ])\n",
        "\n",
        "\n",
        "            X_train_tfidf_combined = feature_union.fit_transform(X_train)\n",
        "            X_test_tfidf_combined = feature_union.transform(X_test)\n",
        "\n",
        "\n",
        "            rus = RandomUnderSampler(sampling_strategy='auto', random_state=42)\n",
        "            X_res, y_res = rus.fit_resample(X_train_tfidf_combined, y_train)\n",
        "\n",
        "\n",
        "            voting_clf = VotingClassifier(estimators=models, voting='hard', n_jobs=-1)\n",
        "            voting_clf.fit(X_res, y_res)\n",
        "\n",
        "\n",
        "            y_pred = voting_clf.predict(X_test_tfidf_combined)\n",
        "\n",
        "\n",
        "            fold_folder = f\"/content/drive/MyDrive/AI_Project/Gujarati/{folder_prefix}/{model_name}\"\n",
        "            results_folder = os.path.join(fold_folder, 'reports')\n",
        "            save_model(voting_clf, model_name, feature_union, fold_folder)\n",
        "            save_classification_report_and_confusion_matrix(y_test, y_pred, results_folder, model_name)\n",
        "\n",
        "\n",
        "            precision, recall, f1, _ = precision_recall_fscore_support(y_test, y_pred, average='macro')\n",
        "            final_results.append({\n",
        "                'Feature': 'word_ngram+char_ngram',\n",
        "                'Model': model_name,\n",
        "                'Precision': precision,\n",
        "                'Recall': recall,\n",
        "                'Macro F1': f1\n",
        "            })\n",
        "\n",
        "    results_df = pd.DataFrame(final_results)\n",
        "    results_df = results_df.sort_values(by='Macro F1', ascending=False)\n",
        "    results_df.to_csv('/content/drive/MyDrive/AI_Project/Gujarati/voting_classifier_results.csv', index=False)\n",
        "    print('Voting Classifier Results saved.')"
      ],
      "metadata": {
        "id": "sG6SsrVmNrui"
      },
      "execution_count": 34,
      "outputs": []
    },
    {
      "cell_type": "code",
      "source": [
        "def main():\n",
        "    data_path = '/content/Gujarati_Query_Train.csv'\n",
        "    data = load_data(data_path)\n",
        "\n",
        "    X, y = preprocess_data(data)\n",
        "    print(y.value_counts())\n",
        "\n",
        "    os.makedirs('/content/drive/MyDrive/AI_Project/Gujarati/EDA', exist_ok=True)\n",
        "    plot_class_distribution(y)\n",
        "\n",
        "    classifiers = get_classifiers()\n",
        "\n",
        "    train_and_save_voting_models(X, y, classifiers)\n"
      ],
      "metadata": {
        "id": "F8iZm89iN3AB"
      },
      "execution_count": 33,
      "outputs": []
    },
    {
      "cell_type": "code",
      "source": [
        "if __name__ == '__main__':\n",
        "    main()"
      ],
      "metadata": {
        "colab": {
          "base_uri": "https://localhost:8080/"
        },
        "id": "O7RGdSwGN4DN",
        "outputId": "7b48d9a9-4eb4-4564-d2fa-24bfb1b6ac0b"
      },
      "execution_count": 38,
      "outputs": [
        {
          "output_type": "stream",
          "name": "stdout",
          "text": [
            "Label\n",
            "6    18960\n",
            "8    11614\n",
            "5     4423\n",
            "0     4210\n",
            "1     2602\n",
            "4     2039\n",
            "3     2019\n",
            "9     1503\n",
            "7     1350\n",
            "2     1280\n",
            "Name: count, dtype: int64\n",
            "Training VotingClassifier: LR_RF_MNB\n",
            "Model and vectorizer saved at: /content/drive/MyDrive/AI_Project/Gujarati/3m/LR_RF_MNB\n",
            "Training VotingClassifier: LR_RF_SVM\n",
            "Model and vectorizer saved at: /content/drive/MyDrive/AI_Project/Gujarati/3m/LR_RF_SVM\n",
            "Training VotingClassifier: LR_RF_SGD\n",
            "Model and vectorizer saved at: /content/drive/MyDrive/AI_Project/Gujarati/3m/LR_RF_SGD\n",
            "Training VotingClassifier: LR_RF_XGB\n",
            "Model and vectorizer saved at: /content/drive/MyDrive/AI_Project/Gujarati/3m/LR_RF_XGB\n",
            "Training VotingClassifier: LR_MNB_SVM\n",
            "Model and vectorizer saved at: /content/drive/MyDrive/AI_Project/Gujarati/3m/LR_MNB_SVM\n",
            "Training VotingClassifier: LR_MNB_SGD\n",
            "Model and vectorizer saved at: /content/drive/MyDrive/AI_Project/Gujarati/3m/LR_MNB_SGD\n",
            "Training VotingClassifier: LR_MNB_XGB\n",
            "Model and vectorizer saved at: /content/drive/MyDrive/AI_Project/Gujarati/3m/LR_MNB_XGB\n",
            "Training VotingClassifier: LR_SVM_SGD\n",
            "Model and vectorizer saved at: /content/drive/MyDrive/AI_Project/Gujarati/3m/LR_SVM_SGD\n",
            "Training VotingClassifier: LR_SVM_XGB\n",
            "Model and vectorizer saved at: /content/drive/MyDrive/AI_Project/Gujarati/3m/LR_SVM_XGB\n",
            "Training VotingClassifier: LR_SGD_XGB\n",
            "Model and vectorizer saved at: /content/drive/MyDrive/AI_Project/Gujarati/3m/LR_SGD_XGB\n",
            "Training VotingClassifier: RF_MNB_SVM\n",
            "Model and vectorizer saved at: /content/drive/MyDrive/AI_Project/Gujarati/3m/RF_MNB_SVM\n",
            "Training VotingClassifier: RF_MNB_SGD\n",
            "Model and vectorizer saved at: /content/drive/MyDrive/AI_Project/Gujarati/3m/RF_MNB_SGD\n",
            "Training VotingClassifier: RF_MNB_XGB\n",
            "Model and vectorizer saved at: /content/drive/MyDrive/AI_Project/Gujarati/3m/RF_MNB_XGB\n",
            "Training VotingClassifier: RF_SVM_SGD\n",
            "Model and vectorizer saved at: /content/drive/MyDrive/AI_Project/Gujarati/3m/RF_SVM_SGD\n",
            "Training VotingClassifier: RF_SVM_XGB\n",
            "Model and vectorizer saved at: /content/drive/MyDrive/AI_Project/Gujarati/3m/RF_SVM_XGB\n",
            "Training VotingClassifier: RF_SGD_XGB\n",
            "Model and vectorizer saved at: /content/drive/MyDrive/AI_Project/Gujarati/3m/RF_SGD_XGB\n",
            "Training VotingClassifier: MNB_SVM_SGD\n",
            "Model and vectorizer saved at: /content/drive/MyDrive/AI_Project/Gujarati/3m/MNB_SVM_SGD\n",
            "Training VotingClassifier: MNB_SVM_XGB\n",
            "Model and vectorizer saved at: /content/drive/MyDrive/AI_Project/Gujarati/3m/MNB_SVM_XGB\n",
            "Training VotingClassifier: MNB_SGD_XGB\n",
            "Model and vectorizer saved at: /content/drive/MyDrive/AI_Project/Gujarati/3m/MNB_SGD_XGB\n",
            "Training VotingClassifier: SVM_SGD_XGB\n",
            "Model and vectorizer saved at: /content/drive/MyDrive/AI_Project/Gujarati/3m/SVM_SGD_XGB\n",
            "Training VotingClassifier: LR_RF_MNB_SVM_SGD\n",
            "Model and vectorizer saved at: /content/drive/MyDrive/AI_Project/Gujarati/5m/LR_RF_MNB_SVM_SGD\n",
            "Training VotingClassifier: LR_RF_MNB_SVM_XGB\n",
            "Model and vectorizer saved at: /content/drive/MyDrive/AI_Project/Gujarati/5m/LR_RF_MNB_SVM_XGB\n",
            "Training VotingClassifier: LR_RF_MNB_SGD_XGB\n",
            "Model and vectorizer saved at: /content/drive/MyDrive/AI_Project/Gujarati/5m/LR_RF_MNB_SGD_XGB\n",
            "Training VotingClassifier: LR_RF_SVM_SGD_XGB\n",
            "Model and vectorizer saved at: /content/drive/MyDrive/AI_Project/Gujarati/5m/LR_RF_SVM_SGD_XGB\n",
            "Training VotingClassifier: LR_MNB_SVM_SGD_XGB\n",
            "Model and vectorizer saved at: /content/drive/MyDrive/AI_Project/Gujarati/5m/LR_MNB_SVM_SGD_XGB\n",
            "Training VotingClassifier: RF_MNB_SVM_SGD_XGB\n",
            "Model and vectorizer saved at: /content/drive/MyDrive/AI_Project/Gujarati/5m/RF_MNB_SVM_SGD_XGB\n",
            "Voting Classifier Results saved.\n"
          ]
        }
      ]
    }
  ]
}